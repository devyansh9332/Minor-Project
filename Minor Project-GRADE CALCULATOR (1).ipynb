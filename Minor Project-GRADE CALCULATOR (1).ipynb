{
 "cells": [
  {
   "cell_type": "code",
   "execution_count": 6,
   "id": "c58ff3cf-f810-4d64-a258-6b5ef64e87f0",
   "metadata": {},
   "outputs": [
    {
     "name": "stdin",
     "output_type": "stream",
     "text": [
      "Enter marks for subject 1:  56\n",
      "Enter marks for subject 2:  77\n",
      "Enter marks for subject 3:  78\n",
      "Enter marks for subject 4:  76\n",
      "Enter marks for subject 5:  99\n"
     ]
    },
    {
     "name": "stdout",
     "output_type": "stream",
     "text": [
      "Total Marks: 386.0 out of 500\n",
      "Percentage: 77.2 %\n",
      "Grade: C\n"
     ]
    }
   ],
   "source": [
    "mark1 = float(input(\"Enter marks for subject 1: \"))\n",
    "mark2 = float(input(\"Enter marks for subject 2: \"))\n",
    "mark3 = float(input(\"Enter marks for subject 3: \"))\n",
    "mark4 = float(input(\"Enter marks for subject 4: \"))\n",
    "mark5 = float(input(\"Enter marks for subject 5: \"))\n",
    "\n",
    "total = mark1 + mark2 + mark3 + mark4 + mark5\n",
    "\n",
    "percentage = (total / 500) * 100\n",
    "\n",
    "if percentage >= 90:\n",
    "    grade = 'A'\n",
    "elif percentage >= 80:\n",
    "    grade = 'B'\n",
    "elif percentage >= 70:\n",
    "    grade = 'C'\n",
    "elif percentage >= 60:\n",
    "    grade = 'D'\n",
    "elif percentage >= 50:\n",
    "    grade = 'E'\n",
    "else:\n",
    "    grade = 'F'\n",
    "\n",
    "print(\"Total Marks:\", total, \"out of 500\")\n",
    "print(\"Percentage:\", round(percentage, 2), \"%\")\n",
    "print(\"Grade:\", grade)\n",
    "zzc"
   ]
  },
  {
   "cell_type": "code",
   "execution_count": null,
   "id": "bbf7438a-21a7-44d7-bdea-abf7fa7e7adb",
   "metadata": {},
   "outputs": [],
   "source": []
  }
 ],
 "metadata": {
  "kernelspec": {
   "display_name": "Python [conda env:base] *",
   "language": "python",
   "name": "conda-base-py"
  },
  "language_info": {
   "codemirror_mode": {
    "name": "ipython",
    "version": 3
   },
   "file_extension": ".py",
   "mimetype": "text/x-python",
   "name": "python",
   "nbconvert_exporter": "python",
   "pygments_lexer": "ipython3",
   "version": "3.12.7"
  }
 },
 "nbformat": 4,
 "nbformat_minor": 5
}
